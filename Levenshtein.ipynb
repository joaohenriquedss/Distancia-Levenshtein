{
 "cells": [
  {
   "cell_type": "markdown",
   "metadata": {},
   "source": [
    "# Distância Levenshtein "
   ]
  },
  {
   "cell_type": "code",
   "execution_count": 6,
   "metadata": {},
   "outputs": [],
   "source": [
    "def levenshtein_distance(palavra1,palavra2):\n",
    "  tamanho1 = len(palavra1)\n",
    "  tamanho2 = len(palavra2)\n",
    "  matrix =  [[ 0 for elemento1 in range(tamanho1 + 1) ] for elemento2 in range(tamanho2 + 1) ]\n",
    "  for elemento1 in range(1 , tamanho1+1):\n",
    "    matrix[0][elemento1] = elemento1\n",
    "  for elemento2 in range(1 , tamanho2+1):\n",
    "    matrix[elemento2][0] = elemento2\n",
    "  for elemento2 in range(1, tamanho2 + 1):\n",
    "        for elemento1 in range(1, tamanho1 + 1):\n",
    "            if (palavra1[elemento1-1] == palavra2[elemento2-1]):\n",
    "              valor = 0\n",
    "            else :\n",
    "              valor = 1\n",
    "            result = min( matrix[elemento2-1][elemento1] + 1,\n",
    "                        matrix[elemento2][elemento1-1] + 1,\n",
    "                        matrix[elemento2-1][elemento1-1] + valor )\n",
    "            matrix[elemento2][elemento1] = result\n",
    "  return matrix[tamanho2][tamanho1]"
   ]
  },
  {
   "cell_type": "code",
   "execution_count": 7,
   "metadata": {},
   "outputs": [
    {
     "name": "stdout",
     "output_type": "stream",
     "text": [
      "1\n"
     ]
    }
   ],
   "source": [
    "print(levenshtein_distance('inspiron','inspirin'))"
   ]
  },
  {
   "cell_type": "code",
   "execution_count": 8,
   "metadata": {},
   "outputs": [
    {
     "name": "stdout",
     "output_type": "stream",
     "text": [
      "1\n"
     ]
    }
   ],
   "source": [
    "print(levenshtein_distance('henrique','henriqque'))"
   ]
  },
  {
   "cell_type": "code",
   "execution_count": 11,
   "metadata": {},
   "outputs": [
    {
     "name": "stdout",
     "output_type": "stream",
     "text": [
      "7\n"
     ]
    }
   ],
   "source": [
    "print(levenshtein_distance('inspiron','henrique'))"
   ]
  },
  {
   "cell_type": "code",
   "execution_count": 10,
   "metadata": {},
   "outputs": [
    {
     "name": "stdout",
     "output_type": "stream",
     "text": [
      "2\n"
     ]
    }
   ],
   "source": [
    "print(levenshtein_distance('henrique','enrrique'))"
   ]
  }
 ],
 "metadata": {
  "kernelspec": {
   "display_name": "Python 3",
   "language": "python",
   "name": "python3"
  },
  "language_info": {
   "codemirror_mode": {
    "name": "ipython",
    "version": 3
   },
   "file_extension": ".py",
   "mimetype": "text/x-python",
   "name": "python",
   "nbconvert_exporter": "python",
   "pygments_lexer": "ipython3",
   "version": "3.7.4"
  }
 },
 "nbformat": 4,
 "nbformat_minor": 2
}
